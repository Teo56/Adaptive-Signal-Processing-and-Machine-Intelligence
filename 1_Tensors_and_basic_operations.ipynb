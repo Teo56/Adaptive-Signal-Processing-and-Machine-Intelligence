{
 "cells": [
  {
   "cell_type": "code",
   "execution_count": 1,
   "metadata": {},
   "outputs": [],
   "source": [
    "%load_ext autoreload\n",
    "%autoreload 2\n",
    "%matplotlib inline"
   ]
  },
  {
   "cell_type": "code",
   "execution_count": 2,
   "metadata": {},
   "outputs": [],
   "source": [
    "import numpy as np\n",
    "import matplotlib.pyplot as plt\n",
    "from hottbox.core import Tensor"
   ]
  },
  {
   "cell_type": "markdown",
   "metadata": {
    "toc-hr-collapsed": false
   },
   "source": [
    "[Return to Table of Contents](./0_Table_of_contents.ipynb)"
   ]
  },
  {
   "cell_type": "markdown",
   "metadata": {
    "toc-hr-collapsed": false
   },
   "source": [
    "# Tensors and basic operations"
   ]
  },
  {
   "cell_type": "markdown",
   "metadata": {
    "toc-hr-collapsed": true
   },
   "source": [
    "<img src=\"./imgs/tensors_dogs.jpg\" alt=\"Drawing\" style=\"width: 500px;\"/>\n",
    "\n",
    "A tensor is a multi-dimenaional array of data where each dimension is conventionally referred to as the **mode**. Tensor order is defined by the number of its modes which is equivivalent to the number of indices required to identify a particular entry of a multi-dimensional array. For ease of visualisation and compact notation, we consider a third order tensor $\\mathbf{\\underline{X}} \\in \\mathbb{R}^{I \\times J \\times K}$. Thus, an element of such a tensor, $\\mathbf{\\underline{X}} \\in \\mathbb{R}^{I \\times J \\times K}$, can be written in a general form as:\n",
    "\n",
    "$$ x_{ijk} = \\mathbf{\\underline{X}}[i, j, k]$$\n",
    "\n",
    "> **Note:** In order to be consistent with Python indexing, count of modes and elements within starts from zeros.\n",
    "\n",
    "Creation of a tensor starts with a formation of a multidimensional array of data."
   ]
  },
  {
   "cell_type": "code",
   "execution_count": 3,
   "metadata": {},
   "outputs": [
    {
     "name": "stdout",
     "output_type": "stream",
     "text": [
      "This tensor is of order 3 and consists of 24 elements.\n",
      "Sizes and names of its modes are (2, 3, 4) and ['mode-0', 'mode-1', 'mode-2'] respectively.\n"
     ]
    },
    {
     "data": {
      "text/plain": [
       "array([[[ 0,  1,  2,  3],\n",
       "        [ 4,  5,  6,  7],\n",
       "        [ 8,  9, 10, 11]],\n",
       "\n",
       "       [[12, 13, 14, 15],\n",
       "        [16, 17, 18, 19],\n",
       "        [20, 21, 22, 23]]])"
      ]
     },
     "execution_count": 3,
     "metadata": {},
     "output_type": "execute_result"
    }
   ],
   "source": [
    "# Create 3-d array of data\n",
    "array_3d = np.arange(24).reshape((2, 3, 4))\n",
    "\n",
    "# Create tensor\n",
    "tensor = Tensor(array_3d)\n",
    "\n",
    "# Result preview\n",
    "print(tensor)\n",
    "tensor.data"
   ]
  },
  {
   "cell_type": "markdown",
   "metadata": {
    "toc-hr-collapsed": true
   },
   "source": [
    "## **Assigment 1**\n",
    "\n",
    "1. Create a tensor of order 5 (of any shape) and with all its values equal to 5. Then, calculate its Frobenious norm. \n",
    "2. Construct several tensors of orders varying from 3 to 20, with the size of each dimension equal to 2. Plot the relation between an order of a tensor and the number of its elements.\n",
    "3. Construct several tensors of order 3 with the size of each dimension varying from 3 to 15. Plot the relation between the size of dimensions of a tensor and the number of its elements.\n",
    "4. Analyse and compare the so obtained graphs."
   ]
  },
  {
   "cell_type": "markdown",
   "metadata": {
    "tags": []
   },
   "source": [
    "### Solution: Part 1"
   ]
  },
  {
   "cell_type": "code",
   "execution_count": 4,
   "metadata": {},
   "outputs": [
    {
     "name": "stdout",
     "output_type": "stream",
     "text": [
      "This tensor is of order 5 and consists of 80 elements.\n",
      "Sizes and names of its modes are (5, 2, 4, 1, 2) and ['mode-0', 'mode-1', 'mode-2', 'mode-3', 'mode-4'] respectively.\n"
     ]
    },
    {
     "data": {
      "text/plain": [
       "This tensor is of order 5 and consists of 80 elements.\n",
       "Sizes and names of its modes are (5, 2, 4, 1, 2) and ['mode-0', 'mode-1', 'mode-2', 'mode-3', 'mode-4'] respectively."
      ]
     },
     "execution_count": 4,
     "metadata": {},
     "output_type": "execute_result"
    }
   ],
   "source": [
    "# Create a tensor\n",
    "array_5d = np.ones([5, 2, 4, 1, 2]) * 5\n",
    "tensor = Tensor(array_5d)\n",
    "\n",
    "# Result preview\n",
    "print(tensor)\n",
    "tensor.data\n",
    "tensor"
   ]
  },
  {
   "cell_type": "code",
   "execution_count": 5,
   "metadata": {},
   "outputs": [
    {
     "name": "stdout",
     "output_type": "stream",
     "text": [
      "44.721359549995796\n"
     ]
    }
   ],
   "source": [
    "# Calculate Frobenious norm\n",
    "f_norm = np.linalg.norm(tensor.data) # default noram is 2\n",
    "print(f_norm)"
   ]
  },
  {
   "cell_type": "markdown",
   "metadata": {
    "tags": []
   },
   "source": [
    "### Solution: Part 2"
   ]
  },
  {
   "cell_type": "code",
   "execution_count": 6,
   "metadata": {},
   "outputs": [],
   "source": [
    "# Create tensors and collect information\n",
    "mtx = np.zeros([2, 20])\n",
    "for order in range(20):\n",
    "    tensor_dim = []\n",
    "    order = order+1\n",
    "    for i in range(order):\n",
    "        tensor_dim.append(2)\n",
    "    tensor = Tensor(np.ones(tensor_dim))\n",
    "    mtx[0, order-1] = order\n",
    "    mtx[1, order-1] = np.sum(tensor.data)\n",
    "    "
   ]
  },
  {
   "cell_type": "code",
   "execution_count": 7,
   "metadata": {},
   "outputs": [
    {
     "data": {
      "image/png": "[encoded data removed]",
      "text/plain": [
       "<Figure size 640x480 with 1 Axes>"
      ]
     },
     "metadata": {},
     "output_type": "display_data"
    }
   ],
   "source": [
    "# Plot results\n",
    "plt.plot(mtx[0, :], mtx[1, :])\n",
    "plt.xlabel('Tensor Order')\n",
    "plt.ylabel('Nr. of elements')\n",
    "plt.title('Nr. elements vs. Tensor Order')\n",
    "plt.show()"
   ]
  },
  {
   "cell_type": "markdown",
   "metadata": {
    "tags": []
   },
   "source": [
    "### Solution: Part 3"
   ]
  },
  {
   "cell_type": "code",
   "execution_count": 8,
   "metadata": {},
   "outputs": [],
   "source": [
    "# Create tensors and collect information\n",
    "mtx = np.zeros([2, 15])\n",
    "for size in range(15):\n",
    "    array = np.ones([size, size, size])\n",
    "    tensor = Tensor(array)\n",
    "    mtx[0, size] = size+1\n",
    "    mtx[1, size] = np.sum(tensor.data)"
   ]
  },
  {
   "cell_type": "code",
   "execution_count": 9,
   "metadata": {},
   "outputs": [
    {
     "data": {
      "image/png": "[encoded data removed]",
      "text/plain": [
       "<Figure size 640x480 with 1 Axes>"
      ]
     },
     "metadata": {},
     "output_type": "display_data"
    }
   ],
   "source": [
    "# Plot results\n",
    "plt.plot(mtx[0, :], mtx[1, :])\n",
    "plt.xlabel('Dimention size')\n",
    "plt.ylabel('Nr. of elements')\n",
    "plt.title('Nr. elements vs. Size of tensor dimentions')\n",
    "plt.show()"
   ]
  },
  {
   "cell_type": "markdown",
   "metadata": {
    "tags": []
   },
   "source": [
    "### Solution: Part 4"
   ]
  },
  {
   "cell_type": "markdown",
   "metadata": {},
   "source": [
    "**By looking at the plots, it is clear that increasing the tensor order results in a much greater number of elements. This behavior reflects Bellman's curse of dimentionality, which highlights that in order to estimate a function with a given level of accuracy, the number of samples needed grows exponentially with respect to the dimentionality of the function itself.**\n",
    "\n"
   ]
  },
  {
   "cell_type": "markdown",
   "metadata": {
    "tags": [],
    "toc-hr-collapsed": false
   },
   "source": [
    "# Most common tensor substructures\n",
    "<img src=\"./imgs/tensor_substructures.png\" alt=\"Drawing\" style=\"width: 500px;\"/>\n",
    "\n",
    "1. A **fiber** is a vector obtained by fixing all but one of the indices, e.g.  $\\mathbf{\\underline{X}}[i,:,k]$ is the mode-2 fiber $\\mathbf{\\underline{X}}$ (usually refered to as row fiber). \n",
    "\n",
    "1. Fixing all but two of the indices yields a matrix called a **slice** of a tensor, e.g. $\\mathbf{\\underline{X}}[:,:,k]$ is the mode-[1,2] slice (usually refered to as the frontal slice).\n",
    "\n",
    "**Note:** The same principles and definitions can be applied to a tensor of an arbitrarily large order. In addition, you can obtain a **subtensor** by fixing at least three indices and letting the remaining ones vary."
   ]
  },
  {
   "cell_type": "code",
   "execution_count": 10,
   "metadata": {},
   "outputs": [
    {
     "data": {
      "text/plain": [
       "array([1., 1., 1., 1., 1., 1., 1., 1., 1., 1., 1., 1., 1., 1.])"
      ]
     },
     "execution_count": 10,
     "metadata": {},
     "output_type": "execute_result"
    }
   ],
   "source": [
    "# Mode-2 fiber\n",
    "tensor.data[0,1,:]"
   ]
  },
  {
   "cell_type": "code",
   "execution_count": 11,
   "metadata": {},
   "outputs": [
    {
     "data": {
      "text/plain": [
       "array([[1., 1., 1., 1., 1., 1., 1., 1., 1., 1., 1., 1., 1., 1.],\n",
       "       [1., 1., 1., 1., 1., 1., 1., 1., 1., 1., 1., 1., 1., 1.],\n",
       "       [1., 1., 1., 1., 1., 1., 1., 1., 1., 1., 1., 1., 1., 1.],\n",
       "       [1., 1., 1., 1., 1., 1., 1., 1., 1., 1., 1., 1., 1., 1.],\n",
       "       [1., 1., 1., 1., 1., 1., 1., 1., 1., 1., 1., 1., 1., 1.],\n",
       "       [1., 1., 1., 1., 1., 1., 1., 1., 1., 1., 1., 1., 1., 1.],\n",
       "       [1., 1., 1., 1., 1., 1., 1., 1., 1., 1., 1., 1., 1., 1.],\n",
       "       [1., 1., 1., 1., 1., 1., 1., 1., 1., 1., 1., 1., 1., 1.],\n",
       "       [1., 1., 1., 1., 1., 1., 1., 1., 1., 1., 1., 1., 1., 1.],\n",
       "       [1., 1., 1., 1., 1., 1., 1., 1., 1., 1., 1., 1., 1., 1.],\n",
       "       [1., 1., 1., 1., 1., 1., 1., 1., 1., 1., 1., 1., 1., 1.],\n",
       "       [1., 1., 1., 1., 1., 1., 1., 1., 1., 1., 1., 1., 1., 1.],\n",
       "       [1., 1., 1., 1., 1., 1., 1., 1., 1., 1., 1., 1., 1., 1.],\n",
       "       [1., 1., 1., 1., 1., 1., 1., 1., 1., 1., 1., 1., 1., 1.]])"
      ]
     },
     "execution_count": 11,
     "metadata": {},
     "output_type": "execute_result"
    }
   ],
   "source": [
    "# Frontal slice\n",
    "tensor.data[0,:,:]"
   ]
  },
  {
   "cell_type": "markdown",
   "metadata": {
    "tags": [],
    "toc-hr-collapsed": true
   },
   "source": [
    "## **Assigment 2**\n",
    "\n",
    "1. Create a tensor of order 4 which consists of 81 elements and display all its horizontal slices and any five row fibers.\n",
    "2. Create a tensor of order 3 and shape `(4,2,5)`, where the values of each consequent frontal slice are doubled."
   ]
  },
  {
   "cell_type": "markdown",
   "metadata": {
    "tags": []
   },
   "source": [
    "### Solution: Part 1"
   ]
  },
  {
   "cell_type": "code",
   "execution_count": 12,
   "metadata": {},
   "outputs": [
    {
     "name": "stdout",
     "output_type": "stream",
     "text": [
      "This tensor is of order 4 and consists of 81 elements.\n",
      "Sizes and names of its modes are (3, 3, 3, 3) and ['mode-0', 'mode-1', 'mode-2', 'mode-3'] respectively.\n"
     ]
    }
   ],
   "source": [
    "# Create a tensor of order 4\n",
    "array_4d = np.arange(81).reshape((3, 3, 3, 3))\n",
    "tensor = Tensor(array_4d)\n",
    "print(tensor)"
   ]
  },
  {
   "cell_type": "code",
   "execution_count": 13,
   "metadata": {},
   "outputs": [
    {
     "name": "stdout",
     "output_type": "stream",
     "text": [
      "First dim:  0\n",
      "Fourth dim:  0\n",
      "[[ 0  3  6]\n",
      " [ 9 12 15]\n",
      " [18 21 24]]\n",
      "First dim:  0\n",
      "Fourth dim:  1\n",
      "[[ 1  4  7]\n",
      " [10 13 16]\n",
      " [19 22 25]]\n",
      "First dim:  0\n",
      "Fourth dim:  2\n",
      "[[ 2  5  8]\n",
      " [11 14 17]\n",
      " [20 23 26]]\n",
      "First dim:  1\n",
      "Fourth dim:  0\n",
      "[[27 30 33]\n",
      " [36 39 42]\n",
      " [45 48 51]]\n",
      "First dim:  1\n",
      "Fourth dim:  1\n",
      "[[28 31 34]\n",
      " [37 40 43]\n",
      " [46 49 52]]\n",
      "First dim:  1\n",
      "Fourth dim:  2\n",
      "[[29 32 35]\n",
      " [38 41 44]\n",
      " [47 50 53]]\n",
      "First dim:  2\n",
      "Fourth dim:  0\n",
      "[[54 57 60]\n",
      " [63 66 69]\n",
      " [72 75 78]]\n",
      "First dim:  2\n",
      "Fourth dim:  1\n",
      "[[55 58 61]\n",
      " [64 67 70]\n",
      " [73 76 79]]\n",
      "First dim:  2\n",
      "Fourth dim:  2\n",
      "[[56 59 62]\n",
      " [65 68 71]\n",
      " [74 77 80]]\n"
     ]
    }
   ],
   "source": [
    "# Display slices\n",
    "for i in range(3):\n",
    "    for t in range(3):\n",
    "        print('First dim: ', i)\n",
    "        print('Fourth dim: ', t)\n",
    "        slice = tensor.data[i,:,:, t]\n",
    "        print(slice)\n"
   ]
  },
  {
   "cell_type": "code",
   "execution_count": 14,
   "metadata": {},
   "outputs": [
    {
     "name": "stdout",
     "output_type": "stream",
     "text": [
      "[[ 0  1  2]\n",
      " [ 9 10 11]\n",
      " [18 19 20]]\n",
      "[[27 28 29]\n",
      " [36 37 38]\n",
      " [45 46 47]]\n",
      "[[ 0  1  2]\n",
      " [ 9 10 11]\n",
      " [18 19 20]]\n",
      "[[33 34 35]\n",
      " [42 43 44]\n",
      " [51 52 53]]\n",
      "[[30 31 32]\n",
      " [39 40 41]\n",
      " [48 49 50]]\n"
     ]
    }
   ],
   "source": [
    "# Display fibers\n",
    "fibre_1 = tensor.data[0,:,0, :] # row fibre 1\n",
    "print(fibre_1)\n",
    "fibre_2 = tensor.data[1,:,0, :] # row fibre 2\n",
    "print(fibre_2)\n",
    "fibre_3 = tensor.data[2,:,0, :] # row fibre 3\n",
    "print(fibre_1)\n",
    "fibre_4 = tensor.data[1,:,2, :] # row fibre 3\n",
    "print(fibre_4)\n",
    "fibre_5 = tensor.data[1,:,1, :] # row fibre 3\n",
    "print(fibre_5)"
   ]
  },
  {
   "cell_type": "markdown",
   "metadata": {
    "tags": []
   },
   "source": [
    "### Solution: Part 2"
   ]
  },
  {
   "cell_type": "code",
   "execution_count": 15,
   "metadata": {},
   "outputs": [
    {
     "name": "stdout",
     "output_type": "stream",
     "text": [
      "[[[1. 2. 4. 1. 1.]\n",
      "  [1. 2. 4. 1. 1.]]\n",
      "\n",
      " [[1. 2. 4. 1. 1.]\n",
      "  [1. 2. 4. 1. 1.]]\n",
      "\n",
      " [[1. 2. 4. 1. 1.]\n",
      "  [1. 2. 4. 1. 1.]]\n",
      "\n",
      " [[1. 2. 4. 1. 1.]\n",
      "  [1. 2. 4. 1. 1.]]]\n"
     ]
    }
   ],
   "source": [
    "# Create a tensor of order 3\n",
    "array_3d = np.ones([4, 2, 5])\n",
    "tensor = Tensor(array_3d)\n",
    "tensor.data[:,:,1] = 2\n",
    "tensor.data[:,:,2] = 4\n",
    "print(tensor.data)"
   ]
  },
  {
   "cell_type": "markdown",
   "metadata": {
    "toc-hr-collapsed": false
   },
   "source": [
    "# Unfolding\n",
    "\n",
    "Conventionally, unfolding is considered to be a process of element mapping from a tensor to a matrix. In other words, it arranges the mode-$n$ fibers of a tensor to be the matrix columns. Thus, the mode-$n$ unfolding is denoted as:\n",
    "\n",
    "$$\\mathbf{\\underline{A}} \\xrightarrow{n} \\mathbf{A}_{(n)}$$\n",
    "\n",
    "Thus, this operations requires to specify a mode along which a tensor will be unfolded. For a third order tensor, a visual representation of such operation is as following\n",
    "\n",
    "<img src=\"./imgs/unfolding.png\" alt=\"Drawing\" style=\"width: 600px;\"/>\n",
    "\n",
    "In `hottbox` this functionality is available through the corresponding methods of the `Tensor` object, for instance:"
   ]
  },
  {
   "cell_type": "code",
   "execution_count": 16,
   "metadata": {},
   "outputs": [
    {
     "name": "stdout",
     "output_type": "stream",
     "text": [
      "This tensor is of order 2 and consists of 24 elements.\n",
      "Sizes and names of its modes are (2, 12) and ['mode-0', 'mode-1_mode-2'] respectively.\n"
     ]
    },
    {
     "data": {
      "text/plain": [
       "array([[ 0,  1,  2,  3,  4,  5,  6,  7,  8,  9, 10, 11],\n",
       "       [12, 13, 14, 15, 16, 17, 18, 19, 20, 21, 22, 23]])"
      ]
     },
     "execution_count": 16,
     "metadata": {},
     "output_type": "execute_result"
    }
   ],
   "source": [
    "# Create 3-d array of data\n",
    "array_3d = np.arange(24).reshape((2, 3, 4))\n",
    "\n",
    "# Create tensor\n",
    "tensor = Tensor(array_3d)\n",
    "\n",
    "# Unfolding of a tensor\n",
    "tensor.unfold(mode=0)\n",
    "\n",
    "# Result preview\n",
    "print(tensor)\n",
    "tensor.data"
   ]
  },
  {
   "cell_type": "markdown",
   "metadata": {
    "toc-hr-collapsed": true
   },
   "source": [
    "## **Assigment 3**\n",
    "\n",
    "1. Create a tensor, $\\mathbf{\\underline{A}}$, of order 4, in such a way that its version unfolded along the second mode would have sizes `(5,72)`, that is $\\mathbf{A}_{(n)} \\in  \\mathbb{R}^{5 \\times 72}$. Validate your results by displaying the unfolded tensor."
   ]
  },
  {
   "cell_type": "markdown",
   "metadata": {},
   "source": [
    "### Solution : Part 1"
   ]
  },
  {
   "cell_type": "code",
   "execution_count": 17,
   "metadata": {},
   "outputs": [
    {
     "name": "stdout",
     "output_type": "stream",
     "text": [
      "The shape of the unfolded tensor is:  (5, 72)\n"
     ]
    },
    {
     "data": {
      "text/plain": [
       "This tensor is of order 2 and consists of 360 elements.\n",
       "Sizes and names of its modes are (5, 72) and ['mode-1', 'mode-0_mode-2_mode-3'] respectively."
      ]
     },
     "execution_count": 17,
     "metadata": {},
     "output_type": "execute_result"
    }
   ],
   "source": [
    "# Create a tensor\n",
    "array_4d = np.arange(360).reshape(6, 5, 4, 3)\n",
    "tensor = Tensor(array_4d)\n",
    "\n",
    "unfolded_tensor = tensor.unfold(mode=1) # second mode --> firt dim is 1\n",
    "print('The shape of the unfolded tensor is: ', tensor.shape)\n",
    "unfolded_tensor"
   ]
  },
  {
   "cell_type": "code",
   "execution_count": 18,
   "metadata": {},
   "outputs": [
    {
     "name": "stdout",
     "output_type": "stream",
     "text": [
      "[[  0   1   2   3   4   5   6   7   8   9  10  11  60  61  62  63  64  65\n",
      "   66  67  68  69  70  71 120 121 122 123 124 125 126 127 128 129 130 131\n",
      "  180 181 182 183 184 185 186 187 188 189 190 191 240 241 242 243 244 245\n",
      "  246 247 248 249 250 251 300 301 302 303 304 305 306 307 308 309 310 311]\n",
      " [ 12  13  14  15  16  17  18  19  20  21  22  23  72  73  74  75  76  77\n",
      "   78  79  80  81  82  83 132 133 134 135 136 137 138 139 140 141 142 143\n",
      "  192 193 194 195 196 197 198 199 200 201 202 203 252 253 254 255 256 257\n",
      "  258 259 260 261 262 263 312 313 314 315 316 317 318 319 320 321 322 323]\n",
      " [ 24  25  26  27  28  29  30  31  32  33  34  35  84  85  86  87  88  89\n",
      "   90  91  92  93  94  95 144 145 146 147 148 149 150 151 152 153 154 155\n",
      "  204 205 206 207 208 209 210 211 212 213 214 215 264 265 266 267 268 269\n",
      "  270 271 272 273 274 275 324 325 326 327 328 329 330 331 332 333 334 335]\n",
      " [ 36  37  38  39  40  41  42  43  44  45  46  47  96  97  98  99 100 101\n",
      "  102 103 104 105 106 107 156 157 158 159 160 161 162 163 164 165 166 167\n",
      "  216 217 218 219 220 221 222 223 224 225 226 227 276 277 278 279 280 281\n",
      "  282 283 284 285 286 287 336 337 338 339 340 341 342 343 344 345 346 347]\n",
      " [ 48  49  50  51  52  53  54  55  56  57  58  59 108 109 110 111 112 113\n",
      "  114 115 116 117 118 119 168 169 170 171 172 173 174 175 176 177 178 179\n",
      "  228 229 230 231 232 233 234 235 236 237 238 239 288 289 290 291 292 293\n",
      "  294 295 296 297 298 299 348 349 350 351 352 353 354 355 356 357 358 359]]\n"
     ]
    }
   ],
   "source": [
    "# Display unfolded version\n",
    "print(unfolded_tensor.data)"
   ]
  },
  {
   "cell_type": "markdown",
   "metadata": {
    "toc-hr-collapsed": false
   },
   "source": [
    "# Mode-n product \n",
    "<img src=\"./imgs/mode_n_product.png\" alt=\"Drawing\" style=\"width: 600px;\"/>\n",
    "\n",
    "The mode-$n$ product is a multiplication of a tensor  by a matrix along the $n^{th}$ mode of a tensor. This essentially means that each mode-$n$ fiber should be multiplied by this matrix. Mathematically, this can be expressed as:\n",
    "\n",
    "$$\\mathbf{\\underline{X}} \\times_n \\mathbf{A} = \\mathbf{\\underline{Y}} \\quad \\Leftrightarrow  \\quad \\mathbf{Y}_{(n)} = \\mathbf{A} \\mathbf{X}_{(n)}  $$"
   ]
  },
  {
   "cell_type": "code",
   "execution_count": 19,
   "metadata": {},
   "outputs": [
    {
     "name": "stdout",
     "output_type": "stream",
     "text": [
      "This tensor is of order 3 and consists of 40 elements.\n",
      "Sizes and names of its modes are (2, 5, 4) and ['mode-0', 'mode-1', 'mode-2'] respectively.\n"
     ]
    },
    {
     "data": {
      "text/plain": [
       "array([[ 20,  23,  26,  29,  56,  59,  62,  65],\n",
       "       [ 56,  68,  80,  92, 200, 212, 224, 236],\n",
       "       [ 92, 113, 134, 155, 344, 365, 386, 407],\n",
       "       [128, 158, 188, 218, 488, 518, 548, 578],\n",
       "       [164, 203, 242, 281, 632, 671, 710, 749]])"
      ]
     },
     "execution_count": 19,
     "metadata": {},
     "output_type": "execute_result"
    }
   ],
   "source": [
    "I, J, K = 2, 3, 4\n",
    "J_new = 5\n",
    "\n",
    "# Create tensor\n",
    "array_3d = np.arange(I * J * K).reshape(I, J ,K)\n",
    "X = Tensor(array_3d)\n",
    "\n",
    "# Create matrix\n",
    "A = np.arange(J_new * J).reshape(J_new, J)\n",
    "\n",
    "# Performs Mode-n product \n",
    "Y = X.mode_n_product(A, mode=1, inplace=False)\n",
    "\n",
    "# Preview of resulting tensor\n",
    "print(Y)\n",
    "\n",
    "# Preview of its unfolded version\n",
    "Y.unfold(mode=1, inplace=False).data"
   ]
  },
  {
   "cell_type": "markdown",
   "metadata": {
    "toc-hr-collapsed": true
   },
   "source": [
    "## **Assignment 4**\n",
    "\n",
    "1. Perform the mode-$n$ product of a 3-rd order tensor, $\\mathbf{\\underline{X}}$, with a matrix, $\\mathbf{A} \\in  \\mathbb{R}^{5 \\times 4}$, provided that the resulting tensor, $\\mathbf{\\underline{Y}}$, consists of `100` elements. Validate your results. \n",
    "\n",
    "> **Note:** You are encouraged to experiment with the optional parameter `inplace` and to investigate its effect on the result."
   ]
  },
  {
   "cell_type": "markdown",
   "metadata": {},
   "source": [
    "### Solution: Part 1"
   ]
  },
  {
   "cell_type": "code",
   "execution_count": 20,
   "metadata": {},
   "outputs": [
    {
     "data": {
      "text/plain": [
       "This tensor is of order 3 and consists of 30 elements.\n",
       "Sizes and names of its modes are (2, 3, 5) and ['mode-0', 'mode-1', 'mode-2'] respectively."
      ]
     },
     "execution_count": 20,
     "metadata": {},
     "output_type": "execute_result"
    }
   ],
   "source": [
    "# Create original tensor \n",
    "I, J, K = 2, 3, 5\n",
    "\n",
    "array_3d = np.arange(I * J * K).reshape(I, J ,K)\n",
    "X = Tensor(array_3d)\n",
    "X"
   ]
  },
  {
   "cell_type": "code",
   "execution_count": 21,
   "metadata": {},
   "outputs": [
    {
     "data": {
      "text/plain": [
       "array([[ 0,  1,  2],\n",
       "       [ 3,  4,  5],\n",
       "       [ 6,  7,  8],\n",
       "       [ 9, 10, 11],\n",
       "       [12, 13, 14],\n",
       "       [15, 16, 17],\n",
       "       [18, 19, 20],\n",
       "       [21, 22, 23],\n",
       "       [24, 25, 26],\n",
       "       [27, 28, 29]])"
      ]
     },
     "execution_count": 21,
     "metadata": {},
     "output_type": "execute_result"
    }
   ],
   "source": [
    "# Create matrix\n",
    "J_new = 10\n",
    "A = np.arange(J_new * J).reshape(J_new, J)\n",
    "A"
   ]
  },
  {
   "cell_type": "code",
   "execution_count": 22,
   "metadata": {},
   "outputs": [
    {
     "name": "stdout",
     "output_type": "stream",
     "text": [
      "This tensor is of order 3 and consists of 100 elements.\n",
      "Sizes and names of its modes are (2, 10, 5) and ['mode-0', 'mode-1', 'mode-2'] respectively.\n"
     ]
    }
   ],
   "source": [
    "# Perform mode-n product \n",
    "Y = X.mode_n_product(A, mode=1, inplace=False)\n",
    "print(Y)"
   ]
  },
  {
   "cell_type": "code",
   "execution_count": 23,
   "metadata": {},
   "outputs": [
    {
     "data": {
      "text/plain": [
       "array([[  25,   28,   31,   34,   37,   70,   73,   76,   79,   82],\n",
       "       [  70,   82,   94,  106,  118,  250,  262,  274,  286,  298],\n",
       "       [ 115,  136,  157,  178,  199,  430,  451,  472,  493,  514],\n",
       "       [ 160,  190,  220,  250,  280,  610,  640,  670,  700,  730],\n",
       "       [ 205,  244,  283,  322,  361,  790,  829,  868,  907,  946],\n",
       "       [ 250,  298,  346,  394,  442,  970, 1018, 1066, 1114, 1162],\n",
       "       [ 295,  352,  409,  466,  523, 1150, 1207, 1264, 1321, 1378],\n",
       "       [ 340,  406,  472,  538,  604, 1330, 1396, 1462, 1528, 1594],\n",
       "       [ 385,  460,  535,  610,  685, 1510, 1585, 1660, 1735, 1810],\n",
       "       [ 430,  514,  598,  682,  766, 1690, 1774, 1858, 1942, 2026]])"
      ]
     },
     "execution_count": 23,
     "metadata": {},
     "output_type": "execute_result"
    }
   ],
   "source": [
    "# Validate equivalence between the left and right hand side\n",
    "Y.unfold(mode=1, inplace=False).data"
   ]
  },
  {
   "cell_type": "markdown",
   "metadata": {},
   "source": [
    "# Properties of mode-n product\n",
    "\n",
    "1. For distinct modes in a series of multiplications, the order of the multiplication is irrelevent: \n",
    "\n",
    "    $$\\mathbf{\\underline{X}} \\times_n \\mathbf{A} \\times_m \\mathbf{B} = \\mathbf{\\underline{X}} \\times_m \\mathbf{B} \\times_n \\mathbf{A} \\quad (m \\neq n)$$\n",
    "\n",
    "1. However, this does not hold if the modes are the same :\n",
    "\n",
    "    $$\\mathbf{\\underline{X}} \\times_n \\mathbf{A} \\times_n \\mathbf{B} = \\mathbf{\\underline{X}} \\times_n (\\mathbf{B}\\mathbf{A})$$"
   ]
  },
  {
   "cell_type": "markdown",
   "metadata": {
    "tags": [],
    "toc-hr-collapsed": true
   },
   "source": [
    "## **Assignment 5**\n",
    "\n",
    "1. Validate both of the above properties empirically \n",
    "2. Prove the second property analytically\n",
    "\n",
    "> **Note:** Be aware of consequences of the optional parameter `inplace` (its default value is set to `True`)."
   ]
  },
  {
   "cell_type": "markdown",
   "metadata": {},
   "source": [
    "### Solution: Part 1"
   ]
  },
  {
   "cell_type": "code",
   "execution_count": 43,
   "metadata": {},
   "outputs": [
    {
     "name": "stdout",
     "output_type": "stream",
     "text": [
      "This tensor is of order 3 and consists of 16 elements.\n",
      "Sizes and names of its modes are (2, 2, 4) and ['mode-0', 'mode-1', 'mode-2'] respectively.\n"
     ]
    }
   ],
   "source": [
    "# Create tensor\n",
    "tensor = Tensor(np.arange(16).reshape((2,2,4)))\n",
    "print(tensor)"
   ]
  },
  {
   "cell_type": "code",
   "execution_count": 47,
   "metadata": {},
   "outputs": [],
   "source": [
    "# Create matrices\n",
    "A = np.arange(10).reshape(5,2)\n",
    "B = np.arange(12).reshape(6,2)"
   ]
  },
  {
   "cell_type": "code",
   "execution_count": 41,
   "metadata": {},
   "outputs": [
    {
     "name": "stdout",
     "output_type": "stream",
     "text": [
      "This tensor is of order 3 and consists of 120 elements.\n",
      "Sizes and names of its modes are (5, 6, 4) and ['mode-0', 'mode-1', 'mode-2'] respectively.\n",
      "[[[  12   13   14   15]\n",
      "  [  52   57   62   67]\n",
      "  [  92  101  110  119]\n",
      "  [ 132  145  158  171]\n",
      "  [ 172  189  206  223]\n",
      "  [ 212  233  254  275]]\n",
      "\n",
      " [[  44   49   54   59]\n",
      "  [ 180  205  230  255]\n",
      "  [ 316  361  406  451]\n",
      "  [ 452  517  582  647]\n",
      "  [ 588  673  758  843]\n",
      "  [ 724  829  934 1039]]\n",
      "\n",
      " [[  76   85   94  103]\n",
      "  [ 308  353  398  443]\n",
      "  [ 540  621  702  783]\n",
      "  [ 772  889 1006 1123]\n",
      "  [1004 1157 1310 1463]\n",
      "  [1236 1425 1614 1803]]\n",
      "\n",
      " [[ 108  121  134  147]\n",
      "  [ 436  501  566  631]\n",
      "  [ 764  881  998 1115]\n",
      "  [1092 1261 1430 1599]\n",
      "  [1420 1641 1862 2083]\n",
      "  [1748 2021 2294 2567]]\n",
      "\n",
      " [[ 140  157  174  191]\n",
      "  [ 564  649  734  819]\n",
      "  [ 988 1141 1294 1447]\n",
      "  [1412 1633 1854 2075]\n",
      "  [1836 2125 2414 2703]\n",
      "  [2260 2617 2974 3331]]]\n",
      "This tensor is of order 3 and consists of 120 elements.\n",
      "Sizes and names of its modes are (5, 6, 4) and ['mode-0', 'mode-1', 'mode-2'] respectively.\n",
      "[[[  12   13   14   15]\n",
      "  [  52   57   62   67]\n",
      "  [  92  101  110  119]\n",
      "  [ 132  145  158  171]\n",
      "  [ 172  189  206  223]\n",
      "  [ 212  233  254  275]]\n",
      "\n",
      " [[  44   49   54   59]\n",
      "  [ 180  205  230  255]\n",
      "  [ 316  361  406  451]\n",
      "  [ 452  517  582  647]\n",
      "  [ 588  673  758  843]\n",
      "  [ 724  829  934 1039]]\n",
      "\n",
      " [[  76   85   94  103]\n",
      "  [ 308  353  398  443]\n",
      "  [ 540  621  702  783]\n",
      "  [ 772  889 1006 1123]\n",
      "  [1004 1157 1310 1463]\n",
      "  [1236 1425 1614 1803]]\n",
      "\n",
      " [[ 108  121  134  147]\n",
      "  [ 436  501  566  631]\n",
      "  [ 764  881  998 1115]\n",
      "  [1092 1261 1430 1599]\n",
      "  [1420 1641 1862 2083]\n",
      "  [1748 2021 2294 2567]]\n",
      "\n",
      " [[ 140  157  174  191]\n",
      "  [ 564  649  734  819]\n",
      "  [ 988 1141 1294 1447]\n",
      "  [1412 1633 1854 2075]\n",
      "  [1836 2125 2414 2703]\n",
      "  [2260 2617 2974 3331]]]\n"
     ]
    }
   ],
   "source": [
    "# Validate property 1\n",
    "# changing modes:\n",
    "res_AB = tensor.mode_n_product(A, mode=0, inplace=False) \n",
    "res_AB = res_AB.mode_n_product(B, mode=1, inplace=False)\n",
    "res_BA = tensor.mode_n_product(B, mode=1, inplace=False)\n",
    "res_BA = res_BA.mode_n_product(A, mode=0, inplace=False)\n",
    "\n",
    "print(res_AB)\n",
    "print(res_AB.data)\n",
    "print(res_BA)\n",
    "print(res_BA.data)"
   ]
  },
  {
   "cell_type": "code",
   "execution_count": 53,
   "metadata": {},
   "outputs": [
    {
     "name": "stdout",
     "output_type": "stream",
     "text": [
      "This tensor is of order 3 and consists of 16 elements.\n",
      "Sizes and names of its modes are (2, 2, 4) and ['mode-0', 'mode-1', 'mode-2'] respectively.\n",
      "[[[ 560  690  820  950]\n",
      "  [1080 1210 1340 1470]]\n",
      "\n",
      " [[1560 1915 2270 2625]\n",
      "  [2980 3335 3690 4045]]]\n",
      "This tensor is of order 3 and consists of 16 elements.\n",
      "Sizes and names of its modes are (2, 2, 4) and ['mode-0', 'mode-1', 'mode-2'] respectively.\n",
      "[[[ 560  690  820  950]\n",
      "  [1080 1210 1340 1470]]\n",
      "\n",
      " [[1560 1915 2270 2625]\n",
      "  [2980 3335 3690 4045]]]\n"
     ]
    }
   ],
   "source": [
    "# Validate property 2\n",
    "B = np.arange(10).reshape(2,5)\n",
    "res_1 = tensor.mode_n_product(A, mode=0, inplace=False) \n",
    "res_1 = res_1.mode_n_product(B, mode=0, inplace=False)\n",
    "res_2 = tensor.mode_n_product(np.matmul(B, A), mode=0, inplace=False) \n",
    "\n",
    "print(res_1)\n",
    "print(res_1.data)\n",
    "print(res_2)\n",
    "print(res_2.data)"
   ]
  },
  {
   "cell_type": "markdown",
   "metadata": {
    "toc-hr-collapsed": true
   },
   "source": [
    "### Solution: Part 2\n",
    "\n",
    "Use [LaTeX syntax](https://stackoverflow.com/questions/13208286/how-to-write-latex-in-ipython-notebook) for analytical deriviations for the second property below.\n"
   ]
  },
  {
   "cell_type": "code",
   "execution_count": 14,
   "metadata": {},
   "outputs": [
    {
     "data": {
      "text/latex": [
       "\n",
       "The property to be proven states the following: \n",
       "    \\begin{equation}\n",
       "        \\mathbf{X \\times_n A \\times_n B = X \\times_n(BA)}\n",
       "    \\end{equation}\n",
       "    \n",
       "    \n",
       "    \n",
       "It can proven starting from the following eqvivalence (presented in assignment 3, 'Mode-n product' section), and multiplying both sides by B:\n",
       "    \\begin{align}\n",
       "        &\\mathbf{X \\times_n A = Y \\rightarrow{} Y_{(n)} = AX_{(n)}} \\;\\;\\;\\;\\;\\; (1)\\\\\n",
       "        &\\mathbf{X \\times_n A \\times_n B = Y \\times_n B \\rightarrow{} BY_{(n)} = BAX_{(n)}}\n",
       "    \\end{align}\n",
       "    \n",
       "Letting the last two consecutive equations be equal to \\(\\mathbf{Z}\\) and \\(\\mathbf{Z_{(n)}}\\) respectively yields:\n",
       "    \n",
       "    \\begin{align}\n",
       "        \\mathbf{X \\times_n A \\times_n B = Y \\times_n B = Z \\rightarrow{} Z_{(n)} = BY_{(n)} = BAX_{(n)}} \\;\\;\\;\\;\\;\\; (2)\n",
       "    \\end{align}\n",
       "    \n",
       "By applying eqn. (1 - right side) to eqn. (2 - right side), the following expression is obtained:\n",
       "    \n",
       "    \\begin{align}\n",
       "        \\mathbf{Z = X \\times_{n} (BA)} \\;\\;\\;\\;\\;\\; (2)\n",
       "    \\end{align}\n",
       "    \n",
       "The resulting expression can be equated to eqn. (2 - left size), yielding:\n",
       "    \n",
       "    \\begin{align}\n",
       "        \\mathbf{X \\times_n A \\times_n B = X \\times_{n} (BA)}\n",
       "    \\end{align}\n",
       "\n",
       "Which proves the property\n"
      ],
      "text/plain": [
       "<IPython.core.display.Latex object>"
      ]
     },
     "metadata": {},
     "output_type": "display_data"
    }
   ],
   "source": [
    "%%latex\n",
    "\n",
    "The property to be proven states the following: \n",
    "    \\begin{equation}\n",
    "        \\mathbf{X \\times_n A \\times_n B = X \\times_n(BA)}\n",
    "    \\end{equation}\n",
    "    \n",
    "    \n",
    "    \n",
    "It can proven starting from the following eqvivalence (presented in assignment 3, 'Mode-n product' section), and multiplying both sides by B:\n",
    "    \\begin{align}\n",
    "        &\\mathbf{X \\times_n A = Y \\rightarrow{} Y_{(n)} = AX_{(n)}} \\;\\;\\;\\;\\;\\; (1)\\\\\n",
    "        &\\mathbf{X \\times_n A \\times_n B = Y \\times_n B \\rightarrow{} BY_{(n)} = BAX_{(n)}}\n",
    "    \\end{align}\n",
    "    \n",
    "Letting the last two consecutive equations be equal to \\(\\mathbf{Z}\\) and \\(\\mathbf{Z_{(n)}}\\) respectively yields:\n",
    "    \n",
    "    \\begin{align}\n",
    "        \\mathbf{X \\times_n A \\times_n B = Y \\times_n B = Z \\rightarrow{} Z_{(n)} = BY_{(n)} = BAX_{(n)}} \\;\\;\\;\\;\\;\\; (2)\n",
    "    \\end{align}\n",
    "    \n",
    "By applying eqn. (1 - right side) to eqn. (2 - right side), the following expression is obtained:\n",
    "    \n",
    "    \\begin{align}\n",
    "        \\mathbf{Z = X \\times_{n} (BA)} \\;\\;\\;\\;\\;\\; (2)\n",
    "    \\end{align}\n",
    "    \n",
    "The resulting expression can be equated to eqn. (2 - left size), yielding:\n",
    "    \n",
    "    \\begin{align}\n",
    "        \\mathbf{X \\times_n A \\times_n B = X \\times_{n} (BA)}\n",
    "    \\end{align}\n",
    "\n",
    "Which proves the property"
   ]
  },
  {
   "cell_type": "code",
   "execution_count": null,
   "metadata": {},
   "outputs": [],
   "source": []
  }
 ],
 "metadata": {
  "kernelspec": {
   "display_name": "dpm-coursework",
   "language": "python",
   "name": "dpm-coursework"
  },
  "language_info": {
   "codemirror_mode": {
    "name": "ipython",
    "version": 3
   },
   "file_extension": ".py",
   "mimetype": "text/x-python",
   "name": "python",
   "nbconvert_exporter": "python",
   "pygments_lexer": "ipython3",
   "version": "3.7.12"
  },
  "toc-autonumbering": false,
  "toc-showcode": false,
  "toc-showmarkdowntxt": false
 },
 "nbformat": 4,
 "nbformat_minor": 4
}
